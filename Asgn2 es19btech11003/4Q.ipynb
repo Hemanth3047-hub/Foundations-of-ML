{
 "cells": [
  {
   "cell_type": "code",
   "execution_count": 1,
   "id": "0ca89148",
   "metadata": {},
   "outputs": [],
   "source": [
    "import pandas as pd\n",
    "import numpy as np\n",
    "from sklearn.svm import SVC\n",
    "from sklearn import svm"
   ]
  },
  {
   "cell_type": "code",
   "execution_count": 2,
   "id": "94909312",
   "metadata": {},
   "outputs": [],
   "source": [
    "def extract_data_from_txt():\n",
    "    file_train = open('Train.txt')\n",
    "    file_test = open('Test.txt')\n",
    "    x_train = []\n",
    "    y_train = []\n",
    "    \n",
    "\n",
    "    for line in file_train:\n",
    "        ar = line.split()\n",
    "        for i in range(len(ar)):\n",
    "            ar[i] = float(ar[i])\n",
    "        if ar[0] == 1:\n",
    "            y_train.append(1)\n",
    "            x_train.append(ar[1:])\n",
    "        elif ar[0] == 5:\n",
    "            y_train.append(-1)\n",
    "            x_train.append(ar[1:])\n",
    "\n",
    "    x_test = []\n",
    "    y_test = []\n",
    "    for line in file_test:\n",
    "        ar = line.split()\n",
    "        for i in range(len(ar)):\n",
    "            ar[i] = float(ar[i])\n",
    "        if ar[0] == 1:\n",
    "            y_test.append(1)\n",
    "            x_test.append(ar[1:])\n",
    "        elif ar[0] == 5:\n",
    "            y_test.append(-1)\n",
    "            x_test.append(ar[1:])\n",
    "    return x_train,x_test,y_train,y_test"
   ]
  },
  {
   "cell_type": "code",
   "execution_count": 3,
   "id": "759e1366",
   "metadata": {},
   "outputs": [],
   "source": [
    "#4.linear\n",
    "from sklearn.metrics import accuracy_score\n",
    "def linear_SVM(train_X, train_Y, test_X, test_Y):\n",
    "    classifier = svm.SVC(kernel = 'linear')\n",
    "    classifier.fit(train_X,train_Y)\n",
    "    Y_predicted = classifier.predict(test_X)\n",
    "    Accuracy = accuracy_score(test_Y, Y_predicted)\n",
    "    no_of_support_vectors = np.shape(classifier.support_)\n",
    "    return no_of_support_vectors, Accuracy"
   ]
  },
  {
   "cell_type": "code",
   "execution_count": 4,
   "id": "78a24a99",
   "metadata": {},
   "outputs": [
    {
     "name": "stdout",
     "output_type": "stream",
     "text": [
      "no_of_SV's     Accuracy\n",
      "(28,)     0.9787735849056604\n"
     ]
    }
   ],
   "source": [
    "#4.linear\n",
    "x_train,x_test,y_train,y_test=extract_data_from_txt()\n",
    "print(\"no_of_SV's     Accuracy\")\n",
    "no_of_support_vectors, Accuracy = linear_SVM(x_train, y_train, x_test, y_test)\n",
    "print(no_of_support_vectors,\"   \",Accuracy)"
   ]
  },
  {
   "cell_type": "code",
   "execution_count": 5,
   "id": "4522e71c",
   "metadata": {},
   "outputs": [
    {
     "name": "stdout",
     "output_type": "stream",
     "text": [
      "Samples   no_of_SV's     Accuracy\n",
      "50         (2,)        0.9811320754716981\n",
      "100         (4,)        0.9811320754716981\n",
      "200         (8,)        0.9811320754716981\n",
      "800         (14,)        0.9811320754716981\n"
     ]
    }
   ],
   "source": [
    "#4.b linear\n",
    "samples = [50, 100, 200, 800]\n",
    "print(\"Samples   no_of_SV's     Accuracy\")\n",
    "for number in samples:\n",
    "    if number == 50:\n",
    "            no_of_support_vectors,Accuracy = linear_SVM(np.array(x_train)[:number,], np.array(y_train)[:number,], x_test, y_test)\n",
    "    elif number == 100:\n",
    "            no_of_support_vectors,Accuracy= linear_SVM(np.array(x_train)[:number,], np.array(y_train)[:number,], x_test, y_test)\n",
    "    elif number == 200:\n",
    "            no_of_support_vectors,Accuracy = linear_SVM(np.array(x_train)[:number,], np.array(y_train)[:number,], x_test, y_test)  \n",
    "    elif number == 800:\n",
    "            no_of_support_vectors,Accuracy = linear_SVM(np.array(x_train)[:number,], np.array(y_train)[:number,], x_test, y_test)\n",
    "    print(number,\"       \",no_of_support_vectors,\"      \",Accuracy)"
   ]
  },
  {
   "cell_type": "code",
   "execution_count": 6,
   "id": "800e3e47",
   "metadata": {},
   "outputs": [],
   "source": [
    "#4.c polynomial\n",
    "from sklearn.metrics import accuracy_score\n",
    "def Polynomial_SVM(train_X, train_Y, test_X, test_Y, Q, C_value):\n",
    "    classifier = SVC(C = C_value, kernel = 'poly', degree = Q,decision_function_shape = 'ovo') \n",
    "    classifier.fit(train_X, train_Y)\n",
    "    Y_predicted = classifier.predict(test_X)\n",
    "    Accuracy= accuracy_score(test_Y, Y_predicted)\n",
    "    no_of_support_vectors = np.shape(classifier.support_)\n",
    "    training_error = 1-classifier.score(train_X,train_Y)\n",
    "    test_error = 1-classifier.score(test_X, test_Y)\n",
    "    return training_error, test_error, no_of_support_vectors, Accuracy"
   ]
  },
  {
   "cell_type": "code",
   "execution_count": 7,
   "id": "cf30777b",
   "metadata": {},
   "outputs": [
    {
     "name": "stdout",
     "output_type": "stream",
     "text": [
      "4.c.i is false\n",
      "0.34080717488789236 0.05188981422165284\n",
      "4.c.ii is true\n",
      "(558,) (158,)\n",
      "4.c.iii is true\n",
      "0.00832799487508007 0.00832799487508007\n",
      "4.c.iv is true\n",
      "0.018867924528301883 0.01650943396226412\n"
     ]
    }
   ],
   "source": [
    "#4.c polynomial\n",
    "training_errorD2C1, test_errorD2C1, no_of_support_vectorsD2C1, Accuracy_D2C1 = Polynomial_SVM(x_train, y_train, x_test, y_test, 2, 1)\n",
    "training_errorD2C01, test_errorD2C01, no_of_support_vectorsD2C01, Accuracy_D2C01 = Polynomial_SVM(x_train, y_train, x_test, y_test, 2, 0.01)\n",
    "training_errorD2C001, test_errorD2C001, no_of_support_vectorsD2C001, Accuracy_D2C001 = Polynomial_SVM(x_train, y_train, x_test, y_test, 2, 0.001)\n",
    "training_errorD2C0001, test_errorD2C0001, no_of_support_vectorsD2C0001, Accuracy_D2C0001 = Polynomial_SVM(x_train, y_train, x_test, y_test, 2, 0.0001)\n",
    "training_errorD5C1, test_errorD5C1, no_of_support_vectorsD5C1, Accuracy_D5C1 = Polynomial_SVM(x_train, y_train, x_test, y_test, 5, 1)\n",
    "training_errorD5C01, test_errorD5C01, no_of_support_vectorsD5C01, Accuracy_D5C01 = Polynomial_SVM(x_train, y_train, x_test, y_test, 5, 0.01)\n",
    "training_errorD5C001, test_errorD5C001, no_of_support_vectorsD5C001, Accuracy_D5C001 = Polynomial_SVM(x_train, y_train, x_test, y_test, 5, 0.001)\n",
    "training_errorD5C0001, test_errorD5C0001, no_of_support_vectorsD5C0001, Accuracy_D5C0001 = Polynomial_SVM(x_train, y_train, x_test, y_test, 5, 0.0001)\n",
    "if training_errorD2C0001<training_errorD5C0001:\n",
    "    print(\"4.c.i is true\")\n",
    "    print(training_errorD2C0001,training_errorD5C0001)\n",
    "else :\n",
    "    print(\"4.c.i is false\")\n",
    "    print(training_errorD2C0001,training_errorD5C0001)\n",
    "if no_of_support_vectorsD5C001<no_of_support_vectorsD2C001:\n",
    "    print(\"4.c.ii is true\")\n",
    "else:\n",
    "    print(\"4.c.ii is false\")\n",
    "print(no_of_support_vectorsD2C001,no_of_support_vectorsD5C001)\n",
    "if training_errorD2C01<=training_errorD5C01:\n",
    "    print(\"4.c.iii is true\")\n",
    "else:\n",
    "    print(\"4.c.iii is false\")\n",
    "print(training_errorD2C01,training_errorD5C01)\n",
    "if test_errorD5C1<test_errorD2C1:\n",
    "    print(\"4.c.iv is true\")\n",
    "else:\n",
    "    print(\"4.c.iv is false\")\n",
    "print(test_errorD2C1,test_errorD5C1)"
   ]
  },
  {
   "cell_type": "code",
   "execution_count": 8,
   "id": "79a94d8b",
   "metadata": {},
   "outputs": [],
   "source": [
    "#4.d RBF\n",
    "def RBF_kernel_SVM(train_X, train_Y, test_X, test_Y, C_value):\n",
    "    classifier = SVC(C = C_value, kernel = 'rbf')\n",
    "    classifier.fit(train_X, train_Y)\n",
    "    training_error = 1-classifier.score(train_X,train_Y)\n",
    "    test_error = 1-classifier.score(test_X,test_Y)\n",
    "    return training_error, test_error"
   ]
  },
  {
   "cell_type": "code",
   "execution_count": 9,
   "id": "9733ab31",
   "metadata": {},
   "outputs": [
    {
     "name": "stdout",
     "output_type": "stream",
     "text": [
      "C_val   training_error     test_error\n",
      "0.01  0.005124919923126248 0.01650943396226412\n",
      "1     0.004484304932735439 0.021226415094339646\n",
      "10^2  0.0038436899423446302 0.018867924528301883\n",
      "10^4  0.0038436899423446302 0.021226415094339646\n",
      "10^6  0.004484304932735439 0.021226415094339646\n"
     ]
    }
   ],
   "source": [
    "#4.d RBF\n",
    "print(\"C_val   training_error     test_error\")\n",
    "training_errorC_01, test_errorC_01 = RBF_kernel_SVM(x_train,y_train,x_test,y_test,0.01)\n",
    "print(\"0.01 \",training_errorC_01,test_errorC_01)\n",
    "training_errorC_1, test_errorC_1 = RBF_kernel_SVM(x_train,y_train,x_test,y_test, 1)\n",
    "print(\"1    \",training_errorC_1,test_errorC_1)\n",
    "training_errorC_10p2, test_errorC_10p2 = RBF_kernel_SVM(x_train,y_train,x_test,y_test, 10^2)\n",
    "print(\"10^2 \",training_errorC_10p2,test_errorC_10p2)\n",
    "training_errorC_10p4, test_errorC_10p4 = RBF_kernel_SVM(x_train,y_train,x_test,y_test, 10^4)\n",
    "print(\"10^4 \",training_errorC_10p4,test_errorC_10p4)\n",
    "training_errorC_10p6, test_errorC_10p6 = RBF_kernel_SVM(x_train,y_train,x_test,y_test, 10^6)\n",
    "print(\"10^6 \",training_errorC_10p6,test_errorC_10p6)"
   ]
  },
  {
   "cell_type": "code",
   "execution_count": null,
   "id": "af4ec40e",
   "metadata": {},
   "outputs": [],
   "source": []
  }
 ],
 "metadata": {
  "kernelspec": {
   "display_name": "Python 3",
   "language": "python",
   "name": "python3"
  },
  "language_info": {
   "codemirror_mode": {
    "name": "ipython",
    "version": 3
   },
   "file_extension": ".py",
   "mimetype": "text/x-python",
   "name": "python",
   "nbconvert_exporter": "python",
   "pygments_lexer": "ipython3",
   "version": "3.8.8"
  }
 },
 "nbformat": 4,
 "nbformat_minor": 5
}
