{
 "cells": [
  {
   "cell_type": "code",
   "execution_count": 1,
   "id": "52527e3d",
   "metadata": {},
   "outputs": [],
   "source": [
    "import pandas as pd\n",
    "import numpy as np\n",
    "from sklearn.svm import SVC\n",
    "from sklearn import svm"
   ]
  },
  {
   "cell_type": "code",
   "execution_count": 2,
   "id": "6a638a88",
   "metadata": {},
   "outputs": [],
   "source": [
    "def extract_data_from_txt():\n",
    "    train_data = np.loadtxt(\"gisette_train.data\",dtype=int)\n",
    "    train_labels =np.loadtxt(\"gisette_train.labels\",dtype=int)\n",
    "    test_data =np.loadtxt(\"gisette_valid.data\",dtype=int)\n",
    "    test_labels = np.loadtxt(\"gisette_valid.labels\",dtype=int)\n",
    "    return train_data,test_data,train_labels,test_labels"
   ]
  },
  {
   "cell_type": "code",
   "execution_count": 3,
   "id": "bc648752",
   "metadata": {},
   "outputs": [],
   "source": [
    "from sklearn.metrics import accuracy_score\n",
    "def linear_SVM(train_X, train_Y, test_X, test_Y):\n",
    "    classifier = svm.SVC(kernel = 'linear')\n",
    "    classifier.fit(train_X, train_Y)\n",
    "    Y_predicted = classifier.predict(test_X)\n",
    "    Accuracy= accuracy_score(test_Y, Y_predicted)\n",
    "    no_of_support_vectors = np.shape(classifier.support_)\n",
    "    training_error = 1-classifier.score(train_X,train_Y)\n",
    "    test_error = 1-classifier.score(test_X, test_Y)\n",
    "    return training_error, test_error, no_of_support_vectors, Accuracy"
   ]
  },
  {
   "cell_type": "code",
   "execution_count": 4,
   "id": "019ed66f",
   "metadata": {},
   "outputs": [
    {
     "name": "stdout",
     "output_type": "stream",
     "text": [
      "training error: 0.0 \n",
      "\n",
      "test error: 0.02400000000000002 \n",
      "\n",
      "no_of_support_Vectors: (1084,) \n",
      "\n",
      "Accuracy: 0.976\n"
     ]
    }
   ],
   "source": [
    "#5.a\n",
    "x_train,x_test,y_train,y_test=extract_data_from_txt()\n",
    "training_error, test_error,no_of_support_vectors, Accuracy = linear_SVM(x_train, y_train, x_test, y_test)\n",
    "print(\"training error:\",training_error,\"\\n\")\n",
    "print(\"test error:\",test_error,\"\\n\")\n",
    "print(\"no_of_support_Vectors:\", no_of_support_vectors,\"\\n\")\n",
    "print(\"Accuracy:\",Accuracy)"
   ]
  },
  {
   "cell_type": "code",
   "execution_count": 9,
   "id": "f9cd2789",
   "metadata": {},
   "outputs": [],
   "source": [
    "#5.b Polynomial\n",
    "from sklearn.metrics import accuracy_score\n",
    "def Polynomial_SVM(train_X, train_Y, test_X, test_Y, Q, Coef):\n",
    "    classifier = SVC(coef0 = Coef, kernel = 'poly', degree = Q) \n",
    "    classifier.fit(train_X, train_Y)\n",
    "    Y_predicted = classifier.predict(test_X)\n",
    "    Accuracy= accuracy_score(test_Y, Y_predicted)\n",
    "    no_of_support_vectors = np.shape(classifier.support_)\n",
    "    training_error = 1-classifier.score(train_X,train_Y)\n",
    "    test_error = 1-classifier.score(test_X, test_Y)\n",
    "    return training_error, test_error, no_of_support_vectors, Accuracy"
   ]
  },
  {
   "cell_type": "code",
   "execution_count": 10,
   "id": "9443f093",
   "metadata": {},
   "outputs": [
    {
     "name": "stdout",
     "output_type": "stream",
     "text": [
      "training error: 0.0004999999999999449 \n",
      "\n",
      "test error: 0.020000000000000018 \n",
      "\n",
      "no_of_support_Vectors: (1332,) \n",
      "\n",
      "Accuracy: 0.98\n"
     ]
    }
   ],
   "source": [
    "x_train,x_test,y_train,y_test=extract_data_from_txt()\n",
    "training_error, test_error,no_of_support_vectors, Accuracy = Polynomial_SVM(x_train, y_train, x_test, y_test,2,1)\n",
    "print(\"training error:\",training_error,\"\\n\")\n",
    "print(\"test error:\",test_error,\"\\n\")\n",
    "print(\"no_of_support_Vectors:\", no_of_support_vectors,\"\\n\")\n",
    "print(\"Accuracy:\",Accuracy)"
   ]
  },
  {
   "cell_type": "code",
   "execution_count": 7,
   "id": "99c197e4",
   "metadata": {},
   "outputs": [],
   "source": [
    "#5.b RBF\n",
    "def RBF_kernel_SVM(train_X, train_Y, test_X, test_Y, Gamma_value):\n",
    "    classifier = SVC(kernel = 'rbf',gamma=Gamma_value)\n",
    "    classifier.fit(train_X, train_Y)\n",
    "    Y_predicted = classifier.predict(test_X)\n",
    "    Accuracy= accuracy_score(test_Y, Y_predicted)\n",
    "    no_of_support_vectors = np.shape(classifier.support_)\n",
    "    training_error = 1-classifier.score(train_X,train_Y)\n",
    "    test_error = 1-classifier.score(test_X,test_Y)\n",
    "    return training_error, test_error, no_of_support_vectors, Accuracy"
   ]
  },
  {
   "cell_type": "code",
   "execution_count": 8,
   "id": "55696c09",
   "metadata": {},
   "outputs": [
    {
     "name": "stdout",
     "output_type": "stream",
     "text": [
      "training error: 0.0 \n",
      "\n",
      "test error: 0.5 \n",
      "\n",
      "no_of_support_Vectors: (6000,) \n",
      "\n",
      "Accuracy: 0.5\n"
     ]
    }
   ],
   "source": [
    "x_train,x_test,y_train,y_test=extract_data_from_txt()\n",
    "training_error, test_error,no_of_support_vectors, Accuracy = RBF_kernel_SVM(x_train, y_train, x_test, y_test,0.001)\n",
    "print(\"training error:\",training_error,\"\\n\")\n",
    "print(\"test error:\",test_error,\"\\n\")\n",
    "print(\"no_of_support_Vectors:\", no_of_support_vectors,\"\\n\")\n",
    "print(\"Accuracy:\",Accuracy)"
   ]
  }
 ],
 "metadata": {
  "kernelspec": {
   "display_name": "Python 3",
   "language": "python",
   "name": "python3"
  },
  "language_info": {
   "codemirror_mode": {
    "name": "ipython",
    "version": 3
   },
   "file_extension": ".py",
   "mimetype": "text/x-python",
   "name": "python",
   "nbconvert_exporter": "python",
   "pygments_lexer": "ipython3",
   "version": "3.8.8"
  }
 },
 "nbformat": 4,
 "nbformat_minor": 5
}
