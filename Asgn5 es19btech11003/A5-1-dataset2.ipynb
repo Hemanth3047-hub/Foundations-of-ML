{
 "cells": [
  {
   "cell_type": "code",
   "execution_count": 1,
   "id": "a0e72b11",
   "metadata": {},
   "outputs": [],
   "source": [
    "import pandas as pd\n",
    "import numpy as np\n",
    "import matplotlib.pyplot as plt"
   ]
  },
  {
   "cell_type": "code",
   "execution_count": 2,
   "id": "4eb42851",
   "metadata": {},
   "outputs": [],
   "source": [
    "def MyDBSCAN(Dataset, epsilon, Min_no_of_Pts):#function to create separate clusters as well as to identify core,border and noise points \n",
    "    labels = [0]*len(Dataset)#initially labels for all points are taken to be 0 \n",
    "    Cluster_ID = 0#cluster ID\n",
    "    i=-1\n",
    "    while i!=len(Dataset)-1:\n",
    "        i += 1\n",
    "        if not (labels[i] == 0):#condition for un-visited\n",
    "           continue\n",
    "        \n",
    "        # Find all of Point's neighboring points.\n",
    "        NeighborPts = region_Query(Dataset,i, epsilon)\n",
    "        if len(NeighborPts) < Min_no_of_Pts:\n",
    "            labels[i] = -1#noise point\n",
    "        else: \n",
    "            Cluster_ID+=1#increment of cluster_ID by 1\n",
    "            form_cluster(Dataset, labels,i, NeighborPts, Cluster_ID, epsilon, Min_no_of_Pts)#growing the present cluster so as to check its neighbours\n",
    "    # After all data has been clustered! we return the final labels\n",
    "    return (labels,Cluster_ID)"
   ]
  },
  {
   "cell_type": "code",
   "execution_count": 3,
   "id": "7f76ca7f",
   "metadata": {},
   "outputs": [],
   "source": [
    "def region_Query(Dataset, P, epsilon):# function to find whether neighbour points includes or not in the given cluster\n",
    "    nearest_neighbour = []\n",
    "    # For each point in the dataset...\n",
    "    Point=-1\n",
    "    while Point!=len(Dataset)-1:\n",
    "        Point+=1\n",
    "        # If the distance is below the threshold, add it to the neighbors list.\n",
    "        if np.linalg.norm(Dataset[P] - Dataset[Point]) <= epsilon:\n",
    "           nearest_neighbour.append(Point)\n",
    "    return nearest_neighbour"
   ]
  },
  {
   "cell_type": "code",
   "execution_count": 4,
   "id": "61336f90",
   "metadata": {},
   "outputs": [],
   "source": [
    "def form_cluster(Dataset, labels, Point, NeighborPts, Cluster_ID, epsilon, MinPts):\n",
    "   \n",
    "    labels[Point] = Cluster_ID\n",
    "    i = 0\n",
    "    while i < len(NeighborPts):    \n",
    "        \n",
    "        # Get the next point from the queue.        \n",
    "        Pn = NeighborPts[i]\n",
    "        # Otherwise, if Pn isn't already claimed, claim it as part of C.\n",
    "        if labels[Pn] == 0:#if it is un-visited \n",
    "            labels[Pn] = Cluster_ID# Add Pn to cluster with 'Cluster_ID' (Assign cluster label Cluster_ID).\n",
    "            \n",
    "            # Find all the neighbors of Pn\n",
    "            PnNeighborPts = region_Query(Dataset, Pn, epsilon)\n",
    "            if len(PnNeighborPts) >= MinPts:\n",
    "                NeighborPts = NeighborPts + PnNeighborPts\n",
    "        elif labels[Pn] == -1:#if it is initially a noise point it gets converted to the cluster point\n",
    "           labels[Pn] = Cluster_ID    \n",
    "        i += 1        "
   ]
  },
  {
   "cell_type": "code",
   "execution_count": 5,
   "id": "c2766b42",
   "metadata": {},
   "outputs": [],
   "source": [
    "from itertools import cycle, islice\n",
    "# from itertools import cycle, islice\n",
    "def visualize(dataset, cluster, numberOfClusters):\n",
    "        N = len(dataset)\n",
    "        colors = np.array(list(islice(cycle(['#98F5FF', '#B23AEE','#3776ab','#CD1076','#FCE6C9','#030303']), 6)))\n",
    "\n",
    "        for i in range(numberOfClusters):\n",
    "            x, y = [], []\n",
    "            for j in range(N):\n",
    "                if cluster[j] == i+1:\n",
    "                    x.append(dataset[j, 0])\n",
    "                    y.append(dataset[j, 1])\n",
    "            if (i == 0):\n",
    "                # Plot all outliers point as black\n",
    "                color = '#CD3333'\n",
    "            else:\n",
    "                color = colors[i % len(colors)]\n",
    "\n",
    "            plt.scatter(x, y, c=color, alpha=1, marker='.')\n",
    "        plt.show()"
   ]
  },
  {
   "cell_type": "code",
   "execution_count": 6,
   "id": "3af136d2",
   "metadata": {},
   "outputs": [],
   "source": [
    "#storing the input coordiantes into 2 lists of pbX and pby\n",
    "pbX = []\n",
    "pby = []\n",
    "with open('dataset2.txt') as f:\n",
    "     for line in f:\n",
    "         x, y = line.split()\n",
    "         pbX.append(x)\n",
    "         pby.append(y)"
   ]
  },
  {
   "cell_type": "code",
   "execution_count": 7,
   "id": "28e46a60",
   "metadata": {},
   "outputs": [
    {
     "data": {
      "image/png": "[encoded data removed]",
      "text/plain": [
       "<Figure size 432x288 with 1 Axes>"
      ]
     },
     "metadata": {
      "needs_background": "light"
     },
     "output_type": "display_data"
    }
   ],
   "source": [
    "#converting the string to float in input variables and plotting the data\n",
    "for i in range(len(pbX)):\n",
    "     pbX[i]=float(pbX[i])\n",
    "     pby[i]=float(pby[i])\n",
    "for i in range(len(pbX)):\n",
    "     pbX[i] = (pbX[i] - min(pbX))/(max(pbX) - min(pbX))\n",
    "     pby[i] = (pby[i] - min(pby))/(max(pby) - min(pby))\n",
    "plt.scatter(pbX,pby,c =\"pink\", \n",
    "            linewidths = 1,  \n",
    "            edgecolor =\"blue\", \n",
    "            s = 20)\n",
    "plt.show()"
   ]
  },
  {
   "cell_type": "code",
   "execution_count": 8,
   "id": "73aa3c8d",
   "metadata": {},
   "outputs": [],
   "source": [
    "#combining both the coordinates into a 2d array\n",
    "pbZ=np.array(list(zip(pbX,pby)))"
   ]
  },
  {
   "cell_type": "code",
   "execution_count": 9,
   "id": "78d8708e",
   "metadata": {},
   "outputs": [
    {
     "data": {
      "image/png": "[encoded data removed]",
      "text/plain": [
       "<Figure size 432x288 with 1 Axes>"
      ]
     },
     "metadata": {
      "needs_background": "light"
     },
     "output_type": "display_data"
    },
    {
     "name": "stdout",
     "output_type": "stream",
     "text": [
      "1    331\n",
      "3    164\n",
      "2      5\n",
      "dtype: int64\n",
      "[[0.04823689 0.06373146]\n",
      " [0.97506977 0.96846404]\n",
      " [0.1723811  0.02412564]]\n"
     ]
    }
   ],
   "source": [
    "from sklearn.cluster import KMeans\n",
    "kmeans = KMeans(n_clusters=3, random_state=0).fit(pbZ)\n",
    "kmeans.labels_+=1\n",
    "visualize(pbZ,kmeans.labels_,3)\n",
    "print(pd.value_counts(kmeans.labels_))\n",
    "print(kmeans.cluster_centers_)"
   ]
  },
  {
   "cell_type": "code",
   "execution_count": 10,
   "id": "0d6dcccd",
   "metadata": {},
   "outputs": [
    {
     "name": "stdout",
     "output_type": "stream",
     "text": [
      "3\n"
     ]
    },
    {
     "data": {
      "image/png": "[encoded data removed]",
      "text/plain": [
       "<Figure size 432x288 with 1 Axes>"
      ]
     },
     "metadata": {
      "needs_background": "light"
     },
     "output_type": "display_data"
    }
   ],
   "source": [
    "from sklearn.preprocessing import StandardScaler\n",
    "\n",
    "pbZ = StandardScaler().fit_transform(pbZ)\n",
    "# My implementation of DBSCAN\n",
    "my_labels,no_of_clusters = MyDBSCAN(pbZ, epsilon=0.1, Min_no_of_Pts=10)\n",
    "print(no_of_clusters)\n",
    "visualize(pbZ,my_labels,no_of_clusters)"
   ]
  },
  {
   "cell_type": "code",
   "execution_count": 11,
   "id": "234c0bb1",
   "metadata": {},
   "outputs": [
    {
     "name": "stdout",
     "output_type": "stream",
     "text": [
      "Runing scikit-learn implementation...\n",
      "PASSED - All labels match!\n"
     ]
    }
   ],
   "source": [
    "# Scikit-learn implementation of DBSCAN\n",
    "from sklearn.cluster import DBSCAN\n",
    "print('Runing scikit-learn implementation...')\n",
    "db = DBSCAN(eps=0.1, min_samples=10).fit(pbZ)\n",
    "skl_labels = db.labels_\n",
    "\n",
    "# Scikit learn uses -1 to for NOISE, and starts cluster labeling at 0. I start\n",
    "# numbering at 1, so increment the skl cluster numbers by 1.\n",
    "for i in range(0, len(skl_labels)):\n",
    "    if not skl_labels[i] == -1:\n",
    "        skl_labels[i] += 1\n",
    "\n",
    "unequal = 0\n",
    "\n",
    "# Go through each label and make sure they match (print the labels if they \n",
    "# don't)\n",
    "for i in range(0, len(skl_labels)):\n",
    "    if  not skl_labels[i] == my_labels[i]:\n",
    "        print('Scikit learn:', skl_labels[i], 'mine:', my_labels[i])\n",
    "        unequal += 1\n",
    "\n",
    "if unequal != 0:\n",
    "    print ('WRONG -',unequal, 'labels don\\'t match.')\n",
    "else:\n",
    "     print('PASSED - All labels match!')\n",
    "    "
   ]
  },
  {
   "cell_type": "code",
   "execution_count": null,
   "id": "9d08dff5",
   "metadata": {},
   "outputs": [],
   "source": []
  }
 ],
 "metadata": {
  "kernelspec": {
   "display_name": "Python 3",
   "language": "python",
   "name": "python3"
  },
  "language_info": {
   "codemirror_mode": {
    "name": "ipython",
    "version": 3
   },
   "file_extension": ".py",
   "mimetype": "text/x-python",
   "name": "python",
   "nbconvert_exporter": "python",
   "pygments_lexer": "ipython3",
   "version": "3.8.8"
  }
 },
 "nbformat": 4,
 "nbformat_minor": 5
}
