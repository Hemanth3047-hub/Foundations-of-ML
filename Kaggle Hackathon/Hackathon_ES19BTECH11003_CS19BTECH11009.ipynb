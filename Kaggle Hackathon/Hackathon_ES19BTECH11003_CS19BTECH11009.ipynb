{
 "cells": [
  {
   "cell_type": "code",
   "execution_count": 1,
   "id": "798a3f57",
   "metadata": {
    "scrolled": true
   },
   "outputs": [
    {
     "name": "stderr",
     "output_type": "stream",
     "text": [
      "/home/killer/anaconda3/lib/python3.8/site-packages/IPython/core/interactiveshell.py:3165: DtypeWarning: Columns (2) have mixed types.Specify dtype option on import or set low_memory=False.\n",
      "  has_raised = await self.run_ast_nodes(code_ast.body, cell_name,\n"
     ]
    }
   ],
   "source": [
    "#taking input from the train and test data file\n",
    "import pandas as pd\n",
    "from sklearn.preprocessing import LabelEncoder\n",
    "pd.options.mode.chained_assignment = None\n",
    "file = open(\"train.csv\", \"r\")\n",
    "file1 = open(\"test.csv\", \"r\")\n",
    "dataset = pd.read_csv(file, sep = \",\")\n",
    "dt1 = pd.read_csv(file1, sep = \",\")\n",
    "dataset = dataset.iloc[:,0:42]  \n",
    "dt1 = dt1.iloc[:,0:42]"
   ]
  },
  {
   "cell_type": "code",
   "execution_count": 2,
   "id": "b188227e",
   "metadata": {
    "scrolled": true
   },
   "outputs": [
    {
     "data": {
      "text/plain": [
       "(51490, 42)"
      ]
     },
     "execution_count": 2,
     "metadata": {},
     "output_type": "execute_result"
    }
   ],
   "source": [
    "dataset.shape"
   ]
  },
  {
   "cell_type": "code",
   "execution_count": 3,
   "id": "220c305f",
   "metadata": {
    "scrolled": true
   },
   "outputs": [
    {
     "data": {
      "text/plain": [
       "(77235, 42)"
      ]
     },
     "execution_count": 3,
     "metadata": {},
     "output_type": "execute_result"
    }
   ],
   "source": [
    "dt1.shape"
   ]
  },
  {
   "cell_type": "code",
   "execution_count": 4,
   "id": "a1da80ab",
   "metadata": {
    "scrolled": true
   },
   "outputs": [
    {
     "name": "stdout",
     "output_type": "stream",
     "text": [
      "Current shape of dataset : (51490, 42)\n"
     ]
    },
    {
     "data": {
      "text/html": [
       "<div>\n",
       "<style scoped>\n",
       "    .dataframe tbody tr th:only-of-type {\n",
       "        vertical-align: middle;\n",
       "    }\n",
       "\n",
       "    .dataframe tbody tr th {\n",
       "        vertical-align: top;\n",
       "    }\n",
       "\n",
       "    .dataframe thead th {\n",
       "        text-align: right;\n",
       "    }\n",
       "</style>\n",
       "<table border=\"1\" class=\"dataframe\">\n",
       "  <thead>\n",
       "    <tr style=\"text-align: right;\">\n",
       "      <th></th>\n",
       "      <th>Report Number</th>\n",
       "      <th>Local Case Number</th>\n",
       "      <th>Agency Name</th>\n",
       "      <th>ACRS Report Type</th>\n",
       "      <th>Crash Date/Time</th>\n",
       "      <th>Route Type</th>\n",
       "      <th>Road Name</th>\n",
       "      <th>Cross-Street Type</th>\n",
       "      <th>Cross-Street Name</th>\n",
       "      <th>Off-Road Description</th>\n",
       "      <th>...</th>\n",
       "      <th>Driverless Vehicle</th>\n",
       "      <th>Parked Vehicle</th>\n",
       "      <th>Vehicle Year</th>\n",
       "      <th>Vehicle Make</th>\n",
       "      <th>Vehicle Model</th>\n",
       "      <th>Equipment Problems</th>\n",
       "      <th>Latitude</th>\n",
       "      <th>Longitude</th>\n",
       "      <th>Location</th>\n",
       "      <th>Fault</th>\n",
       "    </tr>\n",
       "  </thead>\n",
       "  <tbody>\n",
       "    <tr>\n",
       "      <th>0</th>\n",
       "      <td>MP060D</td>\n",
       "      <td>10196</td>\n",
       "      <td>Montgomery County Police</td>\n",
       "      <td>Injury Crash</td>\n",
       "      <td>06/05/17 16:27</td>\n",
       "      <td>Maryland (State)</td>\n",
       "      <td>OLD HUNDRED RD</td>\n",
       "      <td>County</td>\n",
       "      <td>THURSTON RD</td>\n",
       "      <td>12305 SHOREFIELD RD</td>\n",
       "      <td>...</td>\n",
       "      <td>No</td>\n",
       "      <td>No</td>\n",
       "      <td>2005</td>\n",
       "      <td>GMC</td>\n",
       "      <td>TRUCK</td>\n",
       "      <td>NO MISUSE</td>\n",
       "      <td>39.263378</td>\n",
       "      <td>-77.344203</td>\n",
       "      <td>3.6383 7.4233</td>\n",
       "      <td>1</td>\n",
       "    </tr>\n",
       "    <tr>\n",
       "      <th>1</th>\n",
       "      <td>MP000X</td>\n",
       "      <td>20080</td>\n",
       "      <td>Montgomery County Police</td>\n",
       "      <td>Injury Crash</td>\n",
       "      <td>02/22/2020 10:00:00 AM</td>\n",
       "      <td>County</td>\n",
       "      <td>JANET RD</td>\n",
       "      <td>County</td>\n",
       "      <td>FLACK ST</td>\n",
       "      <td>NaN</td>\n",
       "      <td>...</td>\n",
       "      <td>No</td>\n",
       "      <td>Yes</td>\n",
       "      <td>2018</td>\n",
       "      <td>FORD</td>\n",
       "      <td>FIESTA</td>\n",
       "      <td>NO MISUSE</td>\n",
       "      <td>39.068913</td>\n",
       "      <td>-77.063227</td>\n",
       "      <td>3.0862 7.324</td>\n",
       "      <td>1</td>\n",
       "    </tr>\n",
       "    <tr>\n",
       "      <th>2</th>\n",
       "      <td>MP070N</td>\n",
       "      <td>10103</td>\n",
       "      <td>Montgomery County Police</td>\n",
       "      <td>Property Damage Crash</td>\n",
       "      <td>06/11/17 08:21</td>\n",
       "      <td>Maryland (State)</td>\n",
       "      <td>COLESVILLE RD</td>\n",
       "      <td>Maryland (State)</td>\n",
       "      <td>STRUC #15082</td>\n",
       "      <td>NaN</td>\n",
       "      <td>...</td>\n",
       "      <td>No</td>\n",
       "      <td>No</td>\n",
       "      <td>2016</td>\n",
       "      <td>NEW FLYER</td>\n",
       "      <td>TBU</td>\n",
       "      <td>NO MISUSE</td>\n",
       "      <td>38.993578</td>\n",
       "      <td>-77.032718</td>\n",
       "      <td>3.9583 7.3783</td>\n",
       "      <td>0</td>\n",
       "    </tr>\n",
       "    <tr>\n",
       "      <th>3</th>\n",
       "      <td>MP130Y</td>\n",
       "      <td>10208</td>\n",
       "      <td>Montgomery County Police</td>\n",
       "      <td>Injury Crash</td>\n",
       "      <td>05/10/19 07:30</td>\n",
       "      <td>County</td>\n",
       "      <td>PARKLAND DR</td>\n",
       "      <td>County</td>\n",
       "      <td>FRANKFORT DR</td>\n",
       "      <td>NaN</td>\n",
       "      <td>...</td>\n",
       "      <td>No</td>\n",
       "      <td>No</td>\n",
       "      <td>2001</td>\n",
       "      <td>CHEV</td>\n",
       "      <td>SUBURBAN</td>\n",
       "      <td>OTHER</td>\n",
       "      <td>39.083480</td>\n",
       "      <td>-77.086933</td>\n",
       "      <td>3.84,-70633</td>\n",
       "      <td>1</td>\n",
       "    </tr>\n",
       "  </tbody>\n",
       "</table>\n",
       "<p>4 rows × 42 columns</p>\n",
       "</div>"
      ],
      "text/plain": [
       "  Report Number Local Case Number               Agency Name  \\\n",
       "0        MP060D             10196  Montgomery County Police   \n",
       "1        MP000X             20080  Montgomery County Police   \n",
       "2        MP070N             10103  Montgomery County Police   \n",
       "3        MP130Y             10208  Montgomery County Police   \n",
       "\n",
       "        ACRS Report Type         Crash Date/Time        Route Type  \\\n",
       "0           Injury Crash          06/05/17 16:27  Maryland (State)   \n",
       "1           Injury Crash  02/22/2020 10:00:00 AM            County   \n",
       "2  Property Damage Crash          06/11/17 08:21  Maryland (State)   \n",
       "3           Injury Crash          05/10/19 07:30            County   \n",
       "\n",
       "        Road Name Cross-Street Type Cross-Street Name Off-Road Description  \\\n",
       "0  OLD HUNDRED RD            County       THURSTON RD  12305 SHOREFIELD RD   \n",
       "1        JANET RD            County          FLACK ST                  NaN   \n",
       "2   COLESVILLE RD  Maryland (State)      STRUC #15082                  NaN   \n",
       "3     PARKLAND DR            County      FRANKFORT DR                  NaN   \n",
       "\n",
       "   ... Driverless Vehicle Parked Vehicle Vehicle Year Vehicle Make  \\\n",
       "0  ...                 No             No         2005          GMC   \n",
       "1  ...                 No            Yes         2018         FORD   \n",
       "2  ...                 No             No         2016    NEW FLYER   \n",
       "3  ...                 No             No         2001         CHEV   \n",
       "\n",
       "  Vehicle Model Equipment Problems   Latitude  Longitude       Location Fault  \n",
       "0         TRUCK          NO MISUSE  39.263378 -77.344203  3.6383 7.4233     1  \n",
       "1        FIESTA          NO MISUSE  39.068913 -77.063227   3.0862 7.324     1  \n",
       "2           TBU          NO MISUSE  38.993578 -77.032718  3.9583 7.3783     0  \n",
       "3      SUBURBAN              OTHER  39.083480 -77.086933    3.84,-70633     1  \n",
       "\n",
       "[4 rows x 42 columns]"
      ]
     },
     "execution_count": 4,
     "metadata": {},
     "output_type": "execute_result"
    }
   ],
   "source": [
    "#checking the shape of the train dataset\n",
    "print(\"Current shape of dataset :\",dataset.shape)\n",
    "dataset.head(4)"
   ]
  },
  {
   "cell_type": "code",
   "execution_count": 5,
   "id": "39cb57a8",
   "metadata": {
    "scrolled": true
   },
   "outputs": [
    {
     "data": {
      "text/plain": [
       "Report Number                                       MP060D\n",
       "Local Case Number                                    10196\n",
       "Agency Name                       Montgomery County Police\n",
       "ACRS Report Type                              Injury Crash\n",
       "Crash Date/Time                             06/05/17 16:27\n",
       "Route Type                                Maryland (State)\n",
       "Road Name                                   OLD HUNDRED RD\n",
       "Cross-Street Type                                   County\n",
       "Cross-Street Name                              THURSTON RD\n",
       "Off-Road Description                   12305 SHOREFIELD RD\n",
       "Municipality                                           NaN\n",
       "Related Non-Motorist                                   NaN\n",
       "Collision Type                              SINGLE VEHICLE\n",
       "Weather                                              CLEAR\n",
       "Surface Condition                                      WET\n",
       "Light                                             DAYLIGHT\n",
       "Traffic Control                                NO CONTROLS\n",
       "Driver Substance Abuse                       NONE DETECTED\n",
       "Non-Motorist Substance Abuse                           NaN\n",
       "Person ID                                     466D8B-AC8C7\n",
       "Injury Severity                     SUSPECTED MINOR INJURY\n",
       "Circumstance                                      N/A, WET\n",
       "Drivers License State                                   MD\n",
       "Vehicle ID                                    7C2FEC-727F4\n",
       "Vehicle Damage Extent                            DESTROYED\n",
       "Vehicle First Impact Location                TWELVE OCLOCK\n",
       "Vehicle Second Impact Location               TWELVE OCLOCK\n",
       "Vehicle Body Type                             PICKUP TRUCK\n",
       "Vehicle Movement                     MOVING CONSTANT SPEED\n",
       "Vehicle Continuing Dir                               South\n",
       "Vehicle Going Dir                                  Unknown\n",
       "Speed Limit                                             40\n",
       "Driverless Vehicle                                      No\n",
       "Parked Vehicle                                          No\n",
       "Vehicle Year                                          2005\n",
       "Vehicle Make                                           GMC\n",
       "Vehicle Model                                        TRUCK\n",
       "Equipment Problems                               NO MISUSE\n",
       "Latitude                                         39.263378\n",
       "Longitude                                       -77.344203\n",
       "Location                                     3.6383 7.4233\n",
       "Fault                                                    1\n",
       "Name: 0, dtype: object"
      ]
     },
     "execution_count": 5,
     "metadata": {},
     "output_type": "execute_result"
    }
   ],
   "source": [
    "dataset.iloc[0,:]"
   ]
  },
  {
   "cell_type": "code",
   "execution_count": 6,
   "id": "d598081a",
   "metadata": {
    "scrolled": true
   },
   "outputs": [
    {
     "data": {
      "text/plain": [
       "Id                                                     0\n",
       "Report Number                                     MP810M\n",
       "Local Case Number                                    NaN\n",
       "Agency Name                                   MONTGOMERY\n",
       "ACRS Report Type                   Property Damage Crash\n",
       "Crash Date/Time                   12/16/2015 05:42:00 PM\n",
       "Route Type                                        County\n",
       "Road Name                                  WHITTIER BLVD\n",
       "Cross-Street Type                       Maryland (State)\n",
       "Cross-Street Name                              WILSON LA\n",
       "Off-Road Description                                 NaN\n",
       "Municipality                                         NaN\n",
       "Related Non-Motorist                                 NaN\n",
       "Collision Type                                     OTHER\n",
       "Weather                                            CLEAR\n",
       "Surface Condition                                    DRY\n",
       "Light                                     DARK LIGHTS ON\n",
       "Traffic Control                           TRAFFIC SIGNAL\n",
       "Driver Substance Abuse               ALCOHOL CONTRIBUTED\n",
       "Non-Motorist Substance Abuse                         NaN\n",
       "Person ID                                   F05A35-C3C98\n",
       "Injury Severity                       NO APPARENT INJURY\n",
       "Circumstance                                         NaN\n",
       "Drivers License State                                 MD\n",
       "Vehicle ID                                  DA635F-C3055\n",
       "Vehicle Damage Extent                         FUNCTIONAL\n",
       "Vehicle First Impact Location              ELEVEN OCLOCK\n",
       "Vehicle Second Impact Location             ELEVEN OCLOCK\n",
       "Vehicle Body Type                          PASSENGER CAR\n",
       "Vehicle Movement                       MAKING RIGHT TURN\n",
       "Vehicle Continuing Dir                             North\n",
       "Vehicle Going Dir                                  North\n",
       "Speed Limit                                           25\n",
       "Driverless Vehicle                                    No\n",
       "Parked Vehicle                                        No\n",
       "Vehicle Year                                        2004\n",
       "Vehicle Make                                       LEXUS\n",
       "Vehicle Model                                      RX330\n",
       "Equipment Problems                             NO MISUSE\n",
       "Latitude                                        38.98844\n",
       "Longitude                                     -77.127668\n",
       "Location                                     3.84,-71763\n",
       "Name: 0, dtype: object"
      ]
     },
     "execution_count": 6,
     "metadata": {},
     "output_type": "execute_result"
    }
   ],
   "source": [
    "dt1.iloc[0,:]"
   ]
  },
  {
   "cell_type": "code",
   "execution_count": 7,
   "id": "ca86908e",
   "metadata": {
    "scrolled": true
   },
   "outputs": [
    {
     "name": "stdout",
     "output_type": "stream",
     "text": [
      "Current shape of train dataset : (51490, 42)\n",
      "Current shape of test dataset : (77235, 42)\n"
     ]
    }
   ],
   "source": [
    "print(\"Current shape of train dataset :\",dataset.shape)\n",
    "print(\"Current shape of test dataset :\",dt1.shape)"
   ]
  },
  {
   "cell_type": "code",
   "execution_count": 8,
   "id": "214e6d36",
   "metadata": {
    "scrolled": true
   },
   "outputs": [
    {
     "name": "stdout",
     "output_type": "stream",
     "text": [
      "Current shape of dataset : (51490, 29)\n",
      "Current shape of dt1 : (77235, 29)\n"
     ]
    }
   ],
   "source": [
    "#separating out the Fault column from train data set\n",
    "var_columns=[c for c in dataset.columns if c not in ['Fault']]\n",
    "Y=dataset.loc[:,'Fault']\n",
    "dataset=dataset.loc[:,var_columns]\n",
    "#features that we felt which may have more impact on the final Fault column\n",
    "features=['Agency Name','Vehicle Model','Traffic Control','Municipality','Circumstance','Related Non-Motorist','Driver Substance Abuse','ACRS Report Type','Report Number','Route Type','Road Name','Cross-Street Type','Cross-Street Name','Collision Type','Surface Condition','Light','Injury Severity','Drivers License State','Vehicle Damage Extent','Vehicle First Impact Location','Vehicle Second Impact Location','Vehicle Body Type','Vehicle Movement','Vehicle Continuing Dir','Vehicle Going Dir','Speed Limit','Equipment Problems','Parked Vehicle','Vehicle Year']\n",
    "features1=['Agency Name','Vehicle Model','Traffic Control','Municipality','Circumstance','Related Non-Motorist','Driver Substance Abuse','ACRS Report Type','Report Number','Route Type','Road Name','Cross-Street Type','Cross-Street Name','Collision Type','Surface Condition','Light','Injury Severity','Drivers License State','Vehicle Damage Extent','Vehicle First Impact Location','Vehicle Second Impact Location','Vehicle Body Type','Vehicle Movement','Vehicle Continuing Dir','Vehicle Going Dir','Speed Limit','Equipment Problems','Parked Vehicle','Vehicle Year']\n",
    "dataset = dataset[features]\n",
    "dt1=dt1[features1]\n",
    "print(\"Current shape of dataset :\",dataset.shape)\n",
    "print(\"Current shape of dt1 :\",dt1.shape)"
   ]
  },
  {
   "cell_type": "code",
   "execution_count": 9,
   "id": "4e7717c6",
   "metadata": {
    "scrolled": false
   },
   "outputs": [],
   "source": [
    "#concatenating both the data sets so as to have common label encoder values for data under same columns of both test and train data sets\n",
    "dt2=pd.concat([dataset, dt1], axis=0)"
   ]
  },
  {
   "cell_type": "code",
   "execution_count": 10,
   "id": "1b96b027",
   "metadata": {
    "scrolled": true
   },
   "outputs": [],
   "source": [
    "#using label Encoder\n",
    "le=LabelEncoder()\n",
    "#features which we need to encode from the selected set of features\n",
    "Feature=['Equipment Problems','ACRS Report Type','Parked Vehicle','Traffic Control','Surface Condition','Agency Name','Related Non-Motorist','Circumstance','Driver Substance Abuse','Route Type','Municipality','Report Number','Road Name','Cross-Street Type','Cross-Street Name','Collision Type','Surface Condition','Light','Injury Severity','Drivers License State','Vehicle Damage Extent','Vehicle First Impact Location','Vehicle Second Impact Location','Vehicle Body Type','Vehicle Movement','Vehicle Continuing Dir','Vehicle Going Dir','Vehicle Model']\n",
    "for i in range(len(Feature)):\n",
    "    dt2[Feature[i]]=le.fit_transform(dt2[Feature[i]])"
   ]
  },
  {
   "cell_type": "code",
   "execution_count": 12,
   "id": "672ee7f7",
   "metadata": {
    "scrolled": true
   },
   "outputs": [],
   "source": [
    "#replacing the Nan values with the values with more frequency in selected columns \n",
    "features11=['ACRS Report Type','Municipality','Traffic Control','Driver Substance Abuse','Circumstance','Related Non-Motorist']\n",
    "for i in range(len(features11)):\n",
    "    dt2[features11[i]] = dt2[features11[i]].fillna(dt2[features11[i]].mode().iloc[0])\n",
    "dataset = dt2.iloc[:51490,:]\n",
    "dt1 = dt2.iloc[51490:,:]"
   ]
  },
  {
   "cell_type": "code",
   "execution_count": 13,
   "id": "1b83a445",
   "metadata": {
    "scrolled": true
   },
   "outputs": [],
   "source": [
    "#test data\n",
    "var_columns1=[c for c in dt1.columns]\n",
    "X_test=dt1.loc[:,var_columns1]"
   ]
  },
  {
   "cell_type": "code",
   "execution_count": 14,
   "id": "4a816db1",
   "metadata": {
    "scrolled": true
   },
   "outputs": [
    {
     "data": {
      "text/plain": [
       "((46341, 29), (5149, 29), (46341,), (5149,))"
      ]
     },
     "execution_count": 14,
     "metadata": {},
     "output_type": "execute_result"
    }
   ],
   "source": [
    "#considering validation where 90% data used for training and 10% for validation from train data\n",
    "from sklearn.model_selection import train_test_split\n",
    "X_train,X_valid,Y_train,Y_valid=train_test_split(dataset,Y,test_size=0.1,random_state=42)\n",
    "X_train.shape,X_valid.shape,Y_train.shape,Y_valid.shape"
   ]
  },
  {
   "cell_type": "code",
   "execution_count": 15,
   "id": "139605f7",
   "metadata": {
    "scrolled": true
   },
   "outputs": [],
   "source": [
    "#creating a model using GradientBoostingClassifier and fitting X_train and Y_train \n",
    "#from sklearn.ensemble import GradientBoostingClassifier\n",
    "#model=GradientBoostingClassifier(n_estimators=230,learning_rate=0.06,max_depth=8,subsample=0.5,validation_fraction=0.1,min_samples_leaf=1,min_samples_split=2,random_state=5,n_iter_no_change=20,max_features='log2',verbose=1)\n",
    "#model.fit(X_train,Y_train)"
   ]
  },
  {
   "cell_type": "code",
   "execution_count": 16,
   "id": "beb81b54",
   "metadata": {
    "scrolled": true
   },
   "outputs": [
    {
     "name": "stdout",
     "output_type": "stream",
     "text": [
      "[00:25:21] WARNING: ../src/learner.cc:1115: Starting in XGBoost 1.3.0, the default evaluation metric used with the objective 'binary:logistic' was changed from 'error' to 'logloss'. Explicitly set eval_metric if you'd like to restore the old behavior.\n"
     ]
    },
    {
     "data": {
      "text/plain": [
       "XGBClassifier(base_score=0.5, booster='gbtree', colsample_bylevel=1,\n",
       "              colsample_bynode=1, colsample_bytree=1, enable_categorical=False,\n",
       "              gamma=0, gpu_id=-1, importance_type=None,\n",
       "              interaction_constraints='', learning_rate=0.054, max_delta_step=0,\n",
       "              max_depth=8, min_child_weight=1, missing=nan,\n",
       "              monotone_constraints='()', n_estimators=240, n_jobs=8,\n",
       "              num_parallel_tree=1, predictor='auto', random_state=0,\n",
       "              reg_alpha=0, reg_lambda=1, scale_pos_weight=1, subsample=1,\n",
       "              tree_method='exact', use_label_encoder=False,\n",
       "              validate_parameters=1, verbosity=None)"
      ]
     },
     "execution_count": 16,
     "metadata": {},
     "output_type": "execute_result"
    }
   ],
   "source": [
    "#XG boost classifier\n",
    "from xgboost import XGBClassifier\n",
    "model=XGBClassifier(use_label_encoder=False,n_estimators=240,learning_rate=0.054,max_depth=8)\n",
    "model.fit(X_train,Y_train)"
   ]
  },
  {
   "cell_type": "code",
   "execution_count": 17,
   "id": "baec9580",
   "metadata": {
    "scrolled": true
   },
   "outputs": [],
   "source": [
    "#Random Forest classifier\n",
    "#from sklearn.ensemble import RandomForestClassifier\n",
    "#model=RandomForestClassifier(n_estimators=230)\n",
    "#model.fit(X_train,Y_train)"
   ]
  },
  {
   "cell_type": "code",
   "execution_count": 18,
   "id": "9455d09c",
   "metadata": {
    "scrolled": true
   },
   "outputs": [
    {
     "name": "stdout",
     "output_type": "stream",
     "text": [
      "AUC Train :0.9724\n",
      "AUC Valid:0.9290\n"
     ]
    }
   ],
   "source": [
    "#finding the predicted values for both test and validation sets\n",
    "from sklearn.metrics import roc_auc_score\n",
    "Y_train_pred = model.predict_proba(X_train)[:,1]\n",
    "Y_valid_pred = model.predict_proba(X_valid)[:,1]\n",
    "Y_test_pred=model.predict_proba(X_test)[:,1]\n",
    "print(\"AUC Train :{:.4f}\\nAUC Valid:{:.4f}\".format(roc_auc_score(Y_train,Y_train_pred),roc_auc_score(Y_valid,Y_valid_pred)))"
   ]
  },
  {
   "cell_type": "code",
   "execution_count": 19,
   "id": "4c5566b5",
   "metadata": {
    "scrolled": true
   },
   "outputs": [
    {
     "data": {
      "text/html": [
       "<div>\n",
       "<style scoped>\n",
       "    .dataframe tbody tr th:only-of-type {\n",
       "        vertical-align: middle;\n",
       "    }\n",
       "\n",
       "    .dataframe tbody tr th {\n",
       "        vertical-align: top;\n",
       "    }\n",
       "\n",
       "    .dataframe thead th {\n",
       "        text-align: right;\n",
       "    }\n",
       "</style>\n",
       "<table border=\"1\" class=\"dataframe\">\n",
       "  <thead>\n",
       "    <tr style=\"text-align: right;\">\n",
       "      <th></th>\n",
       "      <th>Variable name</th>\n",
       "      <th>Importance</th>\n",
       "    </tr>\n",
       "  </thead>\n",
       "  <tbody>\n",
       "    <tr>\n",
       "      <th>22</th>\n",
       "      <td>Vehicle Movement</td>\n",
       "      <td>0.184481</td>\n",
       "    </tr>\n",
       "    <tr>\n",
       "      <th>19</th>\n",
       "      <td>Vehicle First Impact Location</td>\n",
       "      <td>0.156919</td>\n",
       "    </tr>\n",
       "    <tr>\n",
       "      <th>13</th>\n",
       "      <td>Collision Type</td>\n",
       "      <td>0.100682</td>\n",
       "    </tr>\n",
       "    <tr>\n",
       "      <th>20</th>\n",
       "      <td>Vehicle Second Impact Location</td>\n",
       "      <td>0.077996</td>\n",
       "    </tr>\n",
       "    <tr>\n",
       "      <th>17</th>\n",
       "      <td>Drivers License State</td>\n",
       "      <td>0.058248</td>\n",
       "    </tr>\n",
       "    <tr>\n",
       "      <th>6</th>\n",
       "      <td>Driver Substance Abuse</td>\n",
       "      <td>0.043105</td>\n",
       "    </tr>\n",
       "    <tr>\n",
       "      <th>2</th>\n",
       "      <td>Traffic Control</td>\n",
       "      <td>0.027997</td>\n",
       "    </tr>\n",
       "    <tr>\n",
       "      <th>27</th>\n",
       "      <td>Parked Vehicle</td>\n",
       "      <td>0.023771</td>\n",
       "    </tr>\n",
       "    <tr>\n",
       "      <th>18</th>\n",
       "      <td>Vehicle Damage Extent</td>\n",
       "      <td>0.022433</td>\n",
       "    </tr>\n",
       "    <tr>\n",
       "      <th>23</th>\n",
       "      <td>Vehicle Continuing Dir</td>\n",
       "      <td>0.020964</td>\n",
       "    </tr>\n",
       "    <tr>\n",
       "      <th>25</th>\n",
       "      <td>Speed Limit</td>\n",
       "      <td>0.020831</td>\n",
       "    </tr>\n",
       "    <tr>\n",
       "      <th>16</th>\n",
       "      <td>Injury Severity</td>\n",
       "      <td>0.019420</td>\n",
       "    </tr>\n",
       "    <tr>\n",
       "      <th>26</th>\n",
       "      <td>Equipment Problems</td>\n",
       "      <td>0.018733</td>\n",
       "    </tr>\n",
       "    <tr>\n",
       "      <th>4</th>\n",
       "      <td>Circumstance</td>\n",
       "      <td>0.018000</td>\n",
       "    </tr>\n",
       "    <tr>\n",
       "      <th>9</th>\n",
       "      <td>Route Type</td>\n",
       "      <td>0.017789</td>\n",
       "    </tr>\n",
       "    <tr>\n",
       "      <th>24</th>\n",
       "      <td>Vehicle Going Dir</td>\n",
       "      <td>0.017508</td>\n",
       "    </tr>\n",
       "    <tr>\n",
       "      <th>5</th>\n",
       "      <td>Related Non-Motorist</td>\n",
       "      <td>0.015506</td>\n",
       "    </tr>\n",
       "    <tr>\n",
       "      <th>21</th>\n",
       "      <td>Vehicle Body Type</td>\n",
       "      <td>0.015193</td>\n",
       "    </tr>\n",
       "    <tr>\n",
       "      <th>14</th>\n",
       "      <td>Surface Condition</td>\n",
       "      <td>0.014849</td>\n",
       "    </tr>\n",
       "    <tr>\n",
       "      <th>15</th>\n",
       "      <td>Light</td>\n",
       "      <td>0.014583</td>\n",
       "    </tr>\n",
       "    <tr>\n",
       "      <th>11</th>\n",
       "      <td>Cross-Street Type</td>\n",
       "      <td>0.014236</td>\n",
       "    </tr>\n",
       "    <tr>\n",
       "      <th>7</th>\n",
       "      <td>ACRS Report Type</td>\n",
       "      <td>0.013879</td>\n",
       "    </tr>\n",
       "    <tr>\n",
       "      <th>12</th>\n",
       "      <td>Cross-Street Name</td>\n",
       "      <td>0.013248</td>\n",
       "    </tr>\n",
       "    <tr>\n",
       "      <th>3</th>\n",
       "      <td>Municipality</td>\n",
       "      <td>0.012615</td>\n",
       "    </tr>\n",
       "    <tr>\n",
       "      <th>10</th>\n",
       "      <td>Road Name</td>\n",
       "      <td>0.012543</td>\n",
       "    </tr>\n",
       "    <tr>\n",
       "      <th>28</th>\n",
       "      <td>Vehicle Year</td>\n",
       "      <td>0.011887</td>\n",
       "    </tr>\n",
       "    <tr>\n",
       "      <th>8</th>\n",
       "      <td>Report Number</td>\n",
       "      <td>0.011073</td>\n",
       "    </tr>\n",
       "    <tr>\n",
       "      <th>1</th>\n",
       "      <td>Vehicle Model</td>\n",
       "      <td>0.011026</td>\n",
       "    </tr>\n",
       "    <tr>\n",
       "      <th>0</th>\n",
       "      <td>Agency Name</td>\n",
       "      <td>0.010488</td>\n",
       "    </tr>\n",
       "  </tbody>\n",
       "</table>\n",
       "</div>"
      ],
      "text/plain": [
       "                     Variable name  Importance\n",
       "22                Vehicle Movement    0.184481\n",
       "19   Vehicle First Impact Location    0.156919\n",
       "13                  Collision Type    0.100682\n",
       "20  Vehicle Second Impact Location    0.077996\n",
       "17           Drivers License State    0.058248\n",
       "6           Driver Substance Abuse    0.043105\n",
       "2                  Traffic Control    0.027997\n",
       "27                  Parked Vehicle    0.023771\n",
       "18           Vehicle Damage Extent    0.022433\n",
       "23          Vehicle Continuing Dir    0.020964\n",
       "25                     Speed Limit    0.020831\n",
       "16                 Injury Severity    0.019420\n",
       "26              Equipment Problems    0.018733\n",
       "4                     Circumstance    0.018000\n",
       "9                       Route Type    0.017789\n",
       "24               Vehicle Going Dir    0.017508\n",
       "5             Related Non-Motorist    0.015506\n",
       "21               Vehicle Body Type    0.015193\n",
       "14               Surface Condition    0.014849\n",
       "15                           Light    0.014583\n",
       "11               Cross-Street Type    0.014236\n",
       "7                 ACRS Report Type    0.013879\n",
       "12               Cross-Street Name    0.013248\n",
       "3                     Municipality    0.012615\n",
       "10                       Road Name    0.012543\n",
       "28                    Vehicle Year    0.011887\n",
       "8                    Report Number    0.011073\n",
       "1                    Vehicle Model    0.011026\n",
       "0                      Agency Name    0.010488"
      ]
     },
     "execution_count": 19,
     "metadata": {},
     "output_type": "execute_result"
    }
   ],
   "source": [
    "#checking the importance of parameters so as to know which have more impact and which have less impact on final Fault value\n",
    "pd.DataFrame({\"Variable name\":var_columns1,\"Importance\":model.feature_importances_}).sort_values('Importance', ascending=False)"
   ]
  },
  {
   "cell_type": "code",
   "execution_count": 20,
   "id": "13884799",
   "metadata": {
    "scrolled": true
   },
   "outputs": [],
   "source": [
    "#binary classification for predicted values \n",
    "import numpy as np\n",
    "Y_test_pred=[1 if p >= 0.5 else 0 for p in Y_test_pred]\n",
    "Y_test_pred=np.array(Y_test_pred)"
   ]
  },
  {
   "cell_type": "code",
   "execution_count": 21,
   "id": "d164cdda",
   "metadata": {
    "scrolled": true
   },
   "outputs": [
    {
     "data": {
      "text/plain": [
       "(77235,)"
      ]
     },
     "execution_count": 21,
     "metadata": {},
     "output_type": "execute_result"
    }
   ],
   "source": [
    "#shape\n",
    "Y_test_pred.shape"
   ]
  },
  {
   "cell_type": "code",
   "execution_count": 22,
   "id": "edfd2758",
   "metadata": {
    "scrolled": true
   },
   "outputs": [],
   "source": [
    "#Output file to upload on Kaggle\n",
    "k=[]\n",
    "for i in range(77235):\n",
    "    k.append(i)\n",
    "k=np.array(k)\n",
    "my_submission = pd.DataFrame({'Id': k, 'Fault': Y_test_pred})\n",
    "# you could use any filename. We choose submission here\n",
    "my_submission.to_csv('submission.csv', index=False)"
   ]
  }
 ],
 "metadata": {
  "kernelspec": {
   "display_name": "Python 3",
   "language": "python",
   "name": "python3"
  },
  "language_info": {
   "codemirror_mode": {
    "name": "ipython",
    "version": 3
   },
   "file_extension": ".py",
   "mimetype": "text/x-python",
   "name": "python",
   "nbconvert_exporter": "python",
   "pygments_lexer": "ipython3",
   "version": "3.8.8"
  }
 },
 "nbformat": 4,
 "nbformat_minor": 5
}
