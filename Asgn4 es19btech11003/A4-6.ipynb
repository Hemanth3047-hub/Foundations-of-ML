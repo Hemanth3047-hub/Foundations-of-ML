{
 "cells": [
  {
   "cell_type": "code",
   "execution_count": 1,
   "id": "798a3f57",
   "metadata": {
    "scrolled": true
   },
   "outputs": [
    {
     "data": {
      "text/plain": [
       "(2500000, 8)"
      ]
     },
     "execution_count": 1,
     "metadata": {},
     "output_type": "execute_result"
    }
   ],
   "source": [
    "#taking input from the train and test data file\n",
    "import pandas as pd\n",
    "from sklearn.preprocessing import LabelEncoder\n",
    "pd.options.mode.chained_assignment = None\n",
    "train=2500000\n",
    "dataset = pd.read_csv(\"train.csv\",sep=',',nrows=train)\n",
    "file1 = open(\"test.csv\", \"r\")\n",
    "dt1 = pd.read_csv(file1, sep = \",\")\n",
    "dataset.shape\n"
   ]
  },
  {
   "cell_type": "code",
   "execution_count": 2,
   "id": "b188227e",
   "metadata": {
    "scrolled": true
   },
   "outputs": [
    {
     "data": {
      "text/plain": [
       "(2500000, 8)"
      ]
     },
     "execution_count": 2,
     "metadata": {},
     "output_type": "execute_result"
    }
   ],
   "source": [
    "dataset.shape"
   ]
  },
  {
   "cell_type": "code",
   "execution_count": 3,
   "id": "220c305f",
   "metadata": {
    "scrolled": true
   },
   "outputs": [
    {
     "data": {
      "text/plain": [
       "(9914, 7)"
      ]
     },
     "execution_count": 3,
     "metadata": {},
     "output_type": "execute_result"
    }
   ],
   "source": [
    "dt1.shape"
   ]
  },
  {
   "cell_type": "code",
   "execution_count": 4,
   "id": "a1da80ab",
   "metadata": {
    "scrolled": true
   },
   "outputs": [
    {
     "name": "stdout",
     "output_type": "stream",
     "text": [
      "Current shape of dataset : (2500000, 8)\n"
     ]
    },
    {
     "data": {
      "text/html": [
       "<div>\n",
       "<style scoped>\n",
       "    .dataframe tbody tr th:only-of-type {\n",
       "        vertical-align: middle;\n",
       "    }\n",
       "\n",
       "    .dataframe tbody tr th {\n",
       "        vertical-align: top;\n",
       "    }\n",
       "\n",
       "    .dataframe thead th {\n",
       "        text-align: right;\n",
       "    }\n",
       "</style>\n",
       "<table border=\"1\" class=\"dataframe\">\n",
       "  <thead>\n",
       "    <tr style=\"text-align: right;\">\n",
       "      <th></th>\n",
       "      <th>key</th>\n",
       "      <th>fare_amount</th>\n",
       "      <th>pickup_datetime</th>\n",
       "      <th>pickup_longitude</th>\n",
       "      <th>pickup_latitude</th>\n",
       "      <th>dropoff_longitude</th>\n",
       "      <th>dropoff_latitude</th>\n",
       "      <th>passenger_count</th>\n",
       "    </tr>\n",
       "  </thead>\n",
       "  <tbody>\n",
       "    <tr>\n",
       "      <th>0</th>\n",
       "      <td>2009-06-15 17:26:21.0000001</td>\n",
       "      <td>4.5</td>\n",
       "      <td>2009-06-15 17:26:21 UTC</td>\n",
       "      <td>-73.844311</td>\n",
       "      <td>40.721319</td>\n",
       "      <td>-73.841610</td>\n",
       "      <td>40.712278</td>\n",
       "      <td>1</td>\n",
       "    </tr>\n",
       "    <tr>\n",
       "      <th>1</th>\n",
       "      <td>2010-01-05 16:52:16.0000002</td>\n",
       "      <td>16.9</td>\n",
       "      <td>2010-01-05 16:52:16 UTC</td>\n",
       "      <td>-74.016048</td>\n",
       "      <td>40.711303</td>\n",
       "      <td>-73.979268</td>\n",
       "      <td>40.782004</td>\n",
       "      <td>1</td>\n",
       "    </tr>\n",
       "    <tr>\n",
       "      <th>2</th>\n",
       "      <td>2011-08-18 00:35:00.00000049</td>\n",
       "      <td>5.7</td>\n",
       "      <td>2011-08-18 00:35:00 UTC</td>\n",
       "      <td>-73.982738</td>\n",
       "      <td>40.761270</td>\n",
       "      <td>-73.991242</td>\n",
       "      <td>40.750562</td>\n",
       "      <td>2</td>\n",
       "    </tr>\n",
       "    <tr>\n",
       "      <th>3</th>\n",
       "      <td>2012-04-21 04:30:42.0000001</td>\n",
       "      <td>7.7</td>\n",
       "      <td>2012-04-21 04:30:42 UTC</td>\n",
       "      <td>-73.987130</td>\n",
       "      <td>40.733143</td>\n",
       "      <td>-73.991567</td>\n",
       "      <td>40.758092</td>\n",
       "      <td>1</td>\n",
       "    </tr>\n",
       "  </tbody>\n",
       "</table>\n",
       "</div>"
      ],
      "text/plain": [
       "                            key  fare_amount          pickup_datetime  \\\n",
       "0   2009-06-15 17:26:21.0000001          4.5  2009-06-15 17:26:21 UTC   \n",
       "1   2010-01-05 16:52:16.0000002         16.9  2010-01-05 16:52:16 UTC   \n",
       "2  2011-08-18 00:35:00.00000049          5.7  2011-08-18 00:35:00 UTC   \n",
       "3   2012-04-21 04:30:42.0000001          7.7  2012-04-21 04:30:42 UTC   \n",
       "\n",
       "   pickup_longitude  pickup_latitude  dropoff_longitude  dropoff_latitude  \\\n",
       "0        -73.844311        40.721319         -73.841610         40.712278   \n",
       "1        -74.016048        40.711303         -73.979268         40.782004   \n",
       "2        -73.982738        40.761270         -73.991242         40.750562   \n",
       "3        -73.987130        40.733143         -73.991567         40.758092   \n",
       "\n",
       "   passenger_count  \n",
       "0                1  \n",
       "1                1  \n",
       "2                2  \n",
       "3                1  "
      ]
     },
     "execution_count": 4,
     "metadata": {},
     "output_type": "execute_result"
    }
   ],
   "source": [
    "#checking the shape of the train dataset\n",
    "print(\"Current shape of dataset :\",dataset.shape)\n",
    "dataset.head(4)"
   ]
  },
  {
   "cell_type": "code",
   "execution_count": 5,
   "id": "39cb57a8",
   "metadata": {
    "scrolled": true
   },
   "outputs": [
    {
     "data": {
      "text/plain": [
       "key                  2009-06-15 17:26:21.0000001\n",
       "fare_amount                                  4.5\n",
       "pickup_datetime          2009-06-15 17:26:21 UTC\n",
       "pickup_longitude                      -73.844311\n",
       "pickup_latitude                        40.721319\n",
       "dropoff_longitude                      -73.84161\n",
       "dropoff_latitude                       40.712278\n",
       "passenger_count                                1\n",
       "Name: 0, dtype: object"
      ]
     },
     "execution_count": 5,
     "metadata": {},
     "output_type": "execute_result"
    }
   ],
   "source": [
    "dataset.iloc[0,:]"
   ]
  },
  {
   "cell_type": "code",
   "execution_count": 6,
   "id": "d598081a",
   "metadata": {
    "scrolled": true
   },
   "outputs": [
    {
     "data": {
      "text/plain": [
       "key                  2015-01-27 13:08:24.0000002\n",
       "pickup_datetime          2015-01-27 13:08:24 UTC\n",
       "pickup_longitude                       -73.97332\n",
       "pickup_latitude                        40.763805\n",
       "dropoff_longitude                      -73.98143\n",
       "dropoff_latitude                       40.743835\n",
       "passenger_count                                1\n",
       "Name: 0, dtype: object"
      ]
     },
     "execution_count": 6,
     "metadata": {},
     "output_type": "execute_result"
    }
   ],
   "source": [
    "dt1.iloc[0,:]"
   ]
  },
  {
   "cell_type": "code",
   "execution_count": 7,
   "id": "ca86908e",
   "metadata": {
    "scrolled": true
   },
   "outputs": [
    {
     "name": "stdout",
     "output_type": "stream",
     "text": [
      "Current shape of train dataset : (2500000, 8)\n",
      "Current shape of test dataset : (9914, 7)\n"
     ]
    }
   ],
   "source": [
    "print(\"Current shape of train dataset :\",dataset.shape)\n",
    "print(\"Current shape of test dataset :\",dt1.shape)"
   ]
  },
  {
   "cell_type": "code",
   "execution_count": 8,
   "id": "75de2c78",
   "metadata": {},
   "outputs": [],
   "source": [
    "Z=dt1.loc[:,'key']"
   ]
  },
  {
   "cell_type": "code",
   "execution_count": 9,
   "id": "214e6d36",
   "metadata": {
    "scrolled": true
   },
   "outputs": [
    {
     "name": "stdout",
     "output_type": "stream",
     "text": [
      "Current shape of dataset : (2500000, 7)\n",
      "Current shape of dt1 : (9914, 7)\n"
     ]
    }
   ],
   "source": [
    "#separating out the fare_amount column from train data set\n",
    "var_columns=[c for c in dataset.columns if c not in ['fare_amount']]\n",
    "Y=dataset.loc[:,'fare_amount']\n",
    "dataset=dataset.loc[:,var_columns]\n",
    "print(\"Current shape of dataset :\",dataset.shape)\n",
    "print(\"Current shape of dt1 :\",dt1.shape)"
   ]
  },
  {
   "cell_type": "code",
   "execution_count": 10,
   "id": "342afd6c",
   "metadata": {
    "scrolled": false
   },
   "outputs": [],
   "source": [
    "#concatenating both the data sets so as to have common label encoder values for data under same columns of both test and train data sets\n",
    "dt2=pd.concat([dataset, dt1], axis=0)"
   ]
  },
  {
   "cell_type": "code",
   "execution_count": 11,
   "id": "b8464eec",
   "metadata": {},
   "outputs": [],
   "source": [
    "#converting the given attribute to different attributes which include year,month,date,day,hour,minute etc and also adding 2 other attributes which are 'abs_diff_longitude' and 'abs_diff_latitude'\n",
    "dt2['pickup_datetime'].head(1)\n",
    "dt2['pickup_datetime']=pd.to_datetime(dt2['pickup_datetime'], infer_datetime_format=True)\n",
    "dt2['year'] = dt2['pickup_datetime'].dt.year\n",
    "dt2['Month'] = dt2['pickup_datetime'].dt.month\n",
    "dt2['Date'] = dt2['pickup_datetime'].dt.day\n",
    "dt2['Day of Week'] = dt2['pickup_datetime'].dt.dayofweek\n",
    "dt2['Hour'] = dt2['pickup_datetime'].dt.hour\n",
    "dt2['Minute'] = dt2['pickup_datetime'].dt.minute\n",
    "dt2['abs_diff_longitude'] = (dt2.dropoff_longitude - dt2.pickup_longitude)\n",
    "dt2['abs_diff_latitude'] = (dt2.dropoff_latitude - dt2.pickup_latitude)\n",
    "dt2=dt2.drop(['key', 'pickup_datetime'], axis = 1)"
   ]
  },
  {
   "cell_type": "code",
   "execution_count": 26,
   "id": "3ca9c3be",
   "metadata": {},
   "outputs": [
    {
     "data": {
      "text/plain": [
       "pickup_longitude      0\n",
       "pickup_latitude       0\n",
       "dropoff_longitude     0\n",
       "dropoff_latitude      0\n",
       "passenger_count       0\n",
       "year                  0\n",
       "Month                 0\n",
       "Date                  0\n",
       "Day of Week           0\n",
       "Hour                  0\n",
       "Minute                0\n",
       "abs_diff_longitude    0\n",
       "abs_diff_latitude     0\n",
       "distance              0\n",
       "dtype: int64"
      ]
     },
     "execution_count": 26,
     "metadata": {},
     "output_type": "execute_result"
    }
   ],
   "source": [
    "dt2.isnull().sum()"
   ]
  },
  {
   "cell_type": "code",
   "execution_count": 12,
   "id": "1b96b027",
   "metadata": {
    "scrolled": true
   },
   "outputs": [],
   "source": [
    "#feeatures for which Nan values are filled by frequency\n",
    "features11=['dropoff_longitude','dropoff_latitude','abs_diff_longitude','abs_diff_latitude']\n",
    "for i in range(len(features11)):\n",
    "    dt2[features11[i]] = dt2[features11[i]].fillna(dt2[features11[i]].mode().iloc[0])"
   ]
  },
  {
   "cell_type": "code",
   "execution_count": 13,
   "id": "706ebd87",
   "metadata": {},
   "outputs": [],
   "source": [
    "\n",
    "from math import radians, cos, sin, asin, sqrt\n",
    "def Distance(parameter):\n",
    "    L1=parameter[0]\n",
    "    L2=parameter[1]\n",
    "    Dlon=parameter[2]\n",
    "    Dlat=parameter[3]\n",
    "    # convert decimal degrees to radians \n",
    "    L1,L2,Dlon,Dlat = map(radians, [L1,L2,Dlon,Dlat])\n",
    "    # haversine formula \n",
    "    dist = sin(Dlat/2)**2 + cos(L1) * cos(L2) * sin(Dlon/2)**2\n",
    "    dist=  2 * asin(sqrt(dist)) \n",
    "    # Radius of earth in kilometers is 6378.1\n",
    "    dist= 6378.1*dist\n",
    "    return dist\n",
    "dt2['distance']=dt2[['pickup_latitude','dropoff_latitude','abs_diff_longitude','abs_diff_latitude']].apply(Distance,axis=1)"
   ]
  },
  {
   "cell_type": "code",
   "execution_count": 15,
   "id": "672ee7f7",
   "metadata": {
    "scrolled": true
   },
   "outputs": [],
   "source": [
    "dataset = dt2.iloc[:train,:]\n",
    "dt1 = dt2.iloc[train:,:]"
   ]
  },
  {
   "cell_type": "code",
   "execution_count": 16,
   "id": "1b83a445",
   "metadata": {
    "scrolled": true
   },
   "outputs": [],
   "source": [
    "#test data\n",
    "var_columns1=[c for c in dt1.columns]\n",
    "X_test=dt1.loc[:,var_columns1]"
   ]
  },
  {
   "cell_type": "code",
   "execution_count": 18,
   "id": "4a816db1",
   "metadata": {
    "scrolled": true
   },
   "outputs": [
    {
     "data": {
      "text/plain": [
       "((2250000, 14), (250000, 14), (2250000,), (250000,))"
      ]
     },
     "execution_count": 18,
     "metadata": {},
     "output_type": "execute_result"
    }
   ],
   "source": [
    "#considering validation where 90% data used for training and 10% for validation from train data\n",
    "from sklearn.model_selection import train_test_split\n",
    "X_train,X_valid,Y_train,Y_valid=train_test_split(dataset,Y,test_size=0.1,random_state=42)\n",
    "X_train.shape,X_valid.shape,Y_train.shape,Y_valid.shape"
   ]
  },
  {
   "cell_type": "code",
   "execution_count": 19,
   "id": "139605f7",
   "metadata": {
    "scrolled": false
   },
   "outputs": [
    {
     "data": {
      "text/plain": [
       "1317330    10.1\n",
       "1457476    11.5\n",
       "1280011     5.3\n",
       "1444750     5.3\n",
       "1174345     6.1\n",
       "           ... \n",
       "110268     10.5\n",
       "1692743     4.5\n",
       "2356330     8.0\n",
       "2229084     5.0\n",
       "2219110     6.1\n",
       "Name: fare_amount, Length: 2250000, dtype: float64"
      ]
     },
     "execution_count": 19,
     "metadata": {},
     "output_type": "execute_result"
    }
   ],
   "source": [
    "Y_train"
   ]
  },
  {
   "cell_type": "code",
   "execution_count": 20,
   "id": "beb81b54",
   "metadata": {
    "scrolled": true
   },
   "outputs": [],
   "source": [
    "##2nd best model according to RMSE:3.46\n",
    "##XG boost regressor\n",
    "#import xgboost\n",
    "#model=xgboost.XGBRegressor(n_estimators=300,max_depth=15,max_leaves=9,random_state=0)\n",
    "#model.fit(X_train,Y_train)\n",
    "#y_test_pred=Regression_xgbooost.predict(X_test)\n",
    "#print(y_test_pred)"
   ]
  },
  {
   "cell_type": "code",
   "execution_count": 21,
   "id": "baec9580",
   "metadata": {
    "scrolled": true
   },
   "outputs": [
    {
     "data": {
      "text/plain": [
       "RandomForestRegressor(max_depth=15, n_estimators=300, random_state=0)"
      ]
     },
     "execution_count": 21,
     "metadata": {},
     "output_type": "execute_result"
    }
   ],
   "source": [
    "#best model according the RMSE :3.20\n",
    "#Random Forest classifier\n",
    "from sklearn.ensemble import RandomForestRegressor\n",
    "model=RandomForestRegressor(n_estimators=300,random_state=0,max_depth=15)\n",
    "model.fit(X_train,Y_train)"
   ]
  },
  {
   "cell_type": "code",
   "execution_count": 22,
   "id": "9455d09c",
   "metadata": {
    "scrolled": true
   },
   "outputs": [],
   "source": [
    "#finding the predicted values for both test and validation sets\n",
    "from sklearn.metrics import roc_auc_score\n",
    "Y_train_pred = model.predict(X_train)\n",
    "Y_valid_pred = model.predict(X_valid)\n",
    "Y_test_pred=model.predict(X_test)"
   ]
  },
  {
   "cell_type": "code",
   "execution_count": 23,
   "id": "d164cdda",
   "metadata": {
    "scrolled": true
   },
   "outputs": [
    {
     "name": "stdout",
     "output_type": "stream",
     "text": [
      "4.2645606218938426\n"
     ]
    }
   ],
   "source": [
    "#calculation of RMSE for validation set of size 250000\n",
    "import numpy as np\n",
    "from sklearn.metrics import mean_squared_error\n",
    "print(np.sqrt(mean_squared_error(Y_valid,Y_valid_pred)))"
   ]
  },
  {
   "cell_type": "code",
   "execution_count": 24,
   "id": "edfd2758",
   "metadata": {
    "scrolled": true
   },
   "outputs": [],
   "source": [
    "Y_test_pred.shape\n",
    "# #Output file to upload on Kaggle\n",
    "k=[]\n",
    "for i in range(9914):\n",
    "     k.append(i)\n",
    "k=np.array(k)\n",
    "my_submission = pd.DataFrame({'key': Z, 'fare_amount': Y_test_pred})\n",
    "# # you could use any filename. We choose submission here\n",
    "my_submission.to_csv('submission.csv', index=False)"
   ]
  },
  {
   "cell_type": "code",
   "execution_count": null,
   "id": "ef0de025",
   "metadata": {},
   "outputs": [],
   "source": []
  }
 ],
 "metadata": {
  "kernelspec": {
   "display_name": "Python 3",
   "language": "python",
   "name": "python3"
  },
  "language_info": {
   "codemirror_mode": {
    "name": "ipython",
    "version": 3
   },
   "file_extension": ".py",
   "mimetype": "text/x-python",
   "name": "python",
   "nbconvert_exporter": "python",
   "pygments_lexer": "ipython3",
   "version": "3.8.8"
  }
 },
 "nbformat": 4,
 "nbformat_minor": 5
}
