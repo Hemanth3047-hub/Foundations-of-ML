{
 "cells": [
  {
   "cell_type": "code",
   "execution_count": 1,
   "id": "5f8fd518",
   "metadata": {},
   "outputs": [],
   "source": [
    "#creating LogisticReg class object and storing values\n",
    "import numpy as np\n",
    "import pandas as pd\n",
    "class LogisticReg:\n",
    "    def __init__(self,X,Y):      \n",
    "        self.intercept = np.ones((X.shape[0], 1))  \n",
    "        self.X = np.concatenate((self.intercept,X), axis=1)  \n",
    "        self.weight = np.zeros(self.X.shape[1])  #5.a\n",
    "        #self.weight=[-1,1.5,0.5] #5.b\n",
    "        self.Y = Y"
   ]
  },
  {
   "cell_type": "code",
   "execution_count": 2,
   "id": "01fe92d3",
   "metadata": {},
   "outputs": [],
   "source": [
    "#sigmoid function\n",
    "def sigmoid_function(x,weight):\n",
    "        z = np.dot(x, weight)\n",
    "        return 1 / (1 + np.exp(-z))"
   ]
  },
  {
   "cell_type": "code",
   "execution_count": 3,
   "id": "65c498eb",
   "metadata": {},
   "outputs": [],
   "source": [
    "#cross-entropy error as the error function.\n",
    "def calculate_loss(Y,y):\n",
    "        return (-y * np.log(Y) - (1 - y) * np.log(1 - Y)).mean()    "
   ]
  },
  {
   "cell_type": "code",
   "execution_count": 4,
   "id": "b817ed47",
   "metadata": {},
   "outputs": [],
   "source": [
    "#gradient_descent\n",
    "def gradient_descent(X,Y,y):\n",
    "        return np.dot(X.T,(Y-y))/y.shape[0]"
   ]
  },
  {
   "cell_type": "code",
   "execution_count": 5,
   "id": "d3eef254",
   "metadata": {},
   "outputs": [],
   "source": [
    "#predict function so as to evaluate the predicted and actual values\n",
    "def predict(LReg,x_test,threshold_value):\n",
    "        x_test = np.concatenate((LReg.intercept, x_test), axis=1)\n",
    "        k=sigmoid_function(x_test,LReg.weight)\n",
    "        result = k>=threshold_value\n",
    "        y_pred = np.zeros(result.shape[0])\n",
    "        for i in range(len(y_pred)):\n",
    "            if result[i] == True: \n",
    "                y_pred[i] = 1\n",
    "            else:\n",
    "                continue\n",
    "        return y_pred"
   ]
  },
  {
   "cell_type": "code",
   "execution_count": 11,
   "id": "687ef1ef",
   "metadata": {},
   "outputs": [
    {
     "name": "stdout",
     "output_type": "stream",
     "text": [
      "Final loss after all iterations -> 0.014230265450873107\n"
     ]
    }
   ],
   "source": [
    "import pandas as pd\n",
    "#Loading the data\n",
    "dt=pd.read_csv(\"train.csv\")\n",
    "dt1=pd.read_csv(\"test.csv\")\n",
    "#Preparing the data\n",
    "X=dt.iloc[:,:-1].values\n",
    "Y=dt.iloc[:,-1].values\n",
    "X1=dt1.iloc[:,:-1].values\n",
    "Y1=dt1.iloc[:,-1].values\n",
    " \n",
    "#creating the class Object\n",
    "LReg = LogisticReg(X,Y)\n",
    "iterations=50000\n",
    "lr=0.1\n",
    "for i in range(iterations):\n",
    "            sigma = sigmoid_function(LReg.X,LReg.weight)\n",
    "            Loss = calculate_loss(sigma,LReg.Y)\n",
    "            WEIGHT = gradient_descent(LReg.X,sigma,LReg.Y)\n",
    "            #Updating the weights\n",
    "            LReg.weight-=lr*WEIGHT\n",
    "        \n",
    "y_pred = predict(LReg,X1,0.5)\n",
    "print('Final loss after all iterations ->',Loss)"
   ]
  },
  {
   "cell_type": "code",
   "execution_count": 12,
   "id": "a78aa811",
   "metadata": {},
   "outputs": [
    {
     "name": "stdout",
     "output_type": "stream",
     "text": [
      "0.8\n",
      "0.6666666666666666\n"
     ]
    }
   ],
   "source": [
    "from sklearn.metrics import f1_score, precision_score, recall_score, confusion_matrix\n",
    "\n",
    "print(precision_score(Y1, y_pred , average=\"macro\"))\n",
    "print(recall_score(Y1, y_pred , average=\"macro\"))"
   ]
  }
 ],
 "metadata": {
  "kernelspec": {
   "display_name": "Python 3",
   "language": "python",
   "name": "python3"
  },
  "language_info": {
   "codemirror_mode": {
    "name": "ipython",
    "version": 3
   },
   "file_extension": ".py",
   "mimetype": "text/x-python",
   "name": "python",
   "nbconvert_exporter": "python",
   "pygments_lexer": "ipython3",
   "version": "3.8.8"
  }
 },
 "nbformat": 4,
 "nbformat_minor": 5
}
